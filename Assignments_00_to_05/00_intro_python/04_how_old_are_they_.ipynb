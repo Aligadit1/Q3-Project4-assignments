{
  "nbformat": 4,
  "nbformat_minor": 0,
  "metadata": {
    "colab": {
      "provenance": [],
      "authorship_tag": "ABX9TyPZph764KQDbmu2EaQiuhDf",
      "include_colab_link": true
    },
    "kernelspec": {
      "name": "python3",
      "display_name": "Python 3"
    },
    "language_info": {
      "name": "python"
    }
  },
  "cells": [
    {
      "cell_type": "markdown",
      "metadata": {
        "id": "view-in-github",
        "colab_type": "text"
      },
      "source": [
        "<a href=\"https://colab.research.google.com/github/Aligadit1/Q3-Project4-assignments/blob/main/Assignments_00_to_05/00_intro_python/04_how_old_are_they_.ipynb\" target=\"_parent\"><img src=\"https://colab.research.google.com/assets/colab-badge.svg\" alt=\"Open In Colab\"/></a>"
      ]
    },
    {
      "cell_type": "code",
      "execution_count": 2,
      "metadata": {
        "colab": {
          "base_uri": "https://localhost:8080/"
        },
        "id": "XS0R2EHL1iEB",
        "outputId": "2c212b67-87e3-4fbb-e9bb-95bbcdf486ec"
      },
      "outputs": [
        {
          "output_type": "stream",
          "name": "stdout",
          "text": [
            "anton is 21 years old\n",
            "beth is 27 years old\n",
            "chen is 47 years old\n",
            "drew is 68 years old\n",
            "ethen is 47 years old\n"
          ]
        }
      ],
      "source": [
        "# This code solves a puzzle where different friend's ages are given as how old they are from them\n",
        "def age_calculator():\n",
        "  anton = 21\n",
        "  beth = anton + 6\n",
        "  chen = beth + 20\n",
        "  drew = chen+anton\n",
        "  ethen = chen\n",
        "  print(f\"anton is {anton} years old\")\n",
        "  print(f\"beth is {beth} years old\")\n",
        "  print(f\"chen is {chen} years old\")\n",
        "  print(f\"drew is {drew} years old\")\n",
        "  print(f\"ethen is {ethen} years old\")\n",
        "if __name__ == '__main__':\n",
        "  age_calculator()"
      ]
    }
  ]
}