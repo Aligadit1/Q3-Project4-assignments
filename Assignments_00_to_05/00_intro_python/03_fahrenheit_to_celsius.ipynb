{
  "nbformat": 4,
  "nbformat_minor": 0,
  "metadata": {
    "colab": {
      "provenance": [],
      "authorship_tag": "ABX9TyNxexbkgcQ4QrkzeepN19m/",
      "include_colab_link": true
    },
    "kernelspec": {
      "name": "python3",
      "display_name": "Python 3"
    },
    "language_info": {
      "name": "python"
    }
  },
  "cells": [
    {
      "cell_type": "markdown",
      "metadata": {
        "id": "view-in-github",
        "colab_type": "text"
      },
      "source": [
        "<a href=\"https://colab.research.google.com/github/Aligadit1/Q3-Project4-assignments/blob/main/Assignments_00_to_05/00_intro_python/03_fahrenheit_to_celsius.ipynb\" target=\"_parent\"><img src=\"https://colab.research.google.com/assets/colab-badge.svg\" alt=\"Open In Colab\"/></a>"
      ]
    },
    {
      "cell_type": "code",
      "execution_count": 7,
      "metadata": {
        "id": "djg6EDdbv8QD",
        "colab": {
          "base_uri": "https://localhost:8080/",
          "height": 64
        },
        "outputId": "5f81501b-e41d-4305-d8e1-6566537c6d9f"
      },
      "outputs": [
        {
          "name": "stdout",
          "output_type": "stream",
          "text": [
            "Enter temperature in Fahrenheit: 1021\n"
          ]
        },
        {
          "output_type": "display_data",
          "data": {
            "text/plain": [
              "<IPython.core.display.Markdown object>"
            ],
            "text/markdown": "Temperature: ***1021.0F*** = ***549.4444444444445°C*** "
          },
          "metadata": {}
        }
      ],
      "source": [
        "# This program converts fahrenhit to celcius\n",
        "from IPython.display import display,Markdown\n",
        "def converter():\n",
        "  degrees_fahrenheit=float(input(\"Enter temperature in Fahrenheit: \"))\n",
        "  degree_celcius = (degrees_fahrenheit - 32) * 5.0/9.0\n",
        "  display(Markdown(f\"Temperature: ***{degrees_fahrenheit}F*** = ***{degree_celcius}°C*** \"))\n",
        "if __name__ == \"__main__\":\n",
        "  converter()"
      ]
    }
  ]
}