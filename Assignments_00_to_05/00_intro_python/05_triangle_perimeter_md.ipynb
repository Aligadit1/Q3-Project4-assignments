{
  "nbformat": 4,
  "nbformat_minor": 0,
  "metadata": {
    "colab": {
      "provenance": [],
      "authorship_tag": "ABX9TyMQn2Xs5/6hlygur/s+UvYy",
      "include_colab_link": true
    },
    "kernelspec": {
      "name": "python3",
      "display_name": "Python 3"
    },
    "language_info": {
      "name": "python"
    }
  },
  "cells": [
    {
      "cell_type": "markdown",
      "metadata": {
        "id": "view-in-github",
        "colab_type": "text"
      },
      "source": [
        "<a href=\"https://colab.research.google.com/github/Aligadit1/Q3-Project4-assignments/blob/main/Assignments_00_to_05/00_intro_python/05_triangle_perimeter_md.ipynb\" target=\"_parent\"><img src=\"https://colab.research.google.com/assets/colab-badge.svg\" alt=\"Open In Colab\"/></a>"
      ]
    },
    {
      "cell_type": "code",
      "execution_count": 3,
      "metadata": {
        "colab": {
          "base_uri": "https://localhost:8080/",
          "height": 116
        },
        "id": "PjIvgn753rMe",
        "outputId": "7f80c447-f5bb-441a-ebe7-62e26ec12dfe"
      },
      "outputs": [
        {
          "name": "stdout",
          "output_type": "stream",
          "text": [
            "Enter the values of each side of triangle to find its perimeter\n",
            "Enter the length of side 1: 10\n",
            "Enter the length of side 2: 124\n",
            "Enter the length of side 3: 324\n"
          ]
        },
        {
          "output_type": "display_data",
          "data": {
            "text/plain": [
              "<IPython.core.display.Markdown object>"
            ],
            "text/markdown": "The perimeter of triangle is **458.0**"
          },
          "metadata": {}
        }
      ],
      "source": [
        "#  this program finds the perimeter of triangle\n",
        "from IPython.display import display, Markdown\n",
        "def perimeter():\n",
        "  print(\"Enter the values of each side of triangle to find its perimeter\")\n",
        "  side1 = float(input(\"Enter the length of side 1: \"))\n",
        "  side2 = float(input(\"Enter the length of side 2: \"))\n",
        "  side3 = float(input(\"Enter the length of side 3: \"))\n",
        "  display(Markdown(f\"The perimeter of triangle is **{side1+side2+side3}**\"))\n",
        "if __name__ == \"__main__\":\n",
        "  perimeter()"
      ]
    }
  ]
}