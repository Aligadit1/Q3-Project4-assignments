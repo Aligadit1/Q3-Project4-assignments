{
  "nbformat": 4,
  "nbformat_minor": 0,
  "metadata": {
    "colab": {
      "provenance": [],
      "authorship_tag": "ABX9TyPQSDTDqAlyYXXkNqExtqvb",
      "include_colab_link": true
    },
    "kernelspec": {
      "name": "python3",
      "display_name": "Python 3"
    },
    "language_info": {
      "name": "python"
    }
  },
  "cells": [
    {
      "cell_type": "markdown",
      "metadata": {
        "id": "view-in-github",
        "colab_type": "text"
      },
      "source": [
        "<a href=\"https://colab.research.google.com/github/Aligadit1/Q3-Project4-assignments/blob/main/Assignments_00_to_05/00_intro_python/01_add_two_numbers.ipynb\" target=\"_parent\"><img src=\"https://colab.research.google.com/assets/colab-badge.svg\" alt=\"Open In Colab\"/></a>"
      ]
    },
    {
      "cell_type": "code",
      "execution_count": 9,
      "metadata": {
        "colab": {
          "base_uri": "https://localhost:8080/"
        },
        "id": "pFqXfdTWbZck",
        "outputId": "806f9d69-d3a2-459a-8c1e-f19aa8a1704a"
      },
      "outputs": [
        {
          "output_type": "stream",
          "name": "stdout",
          "text": [
            "This program adds two numbers\n",
            "Enter number1:10\n",
            "Enter number2:10\n",
            "The total is 20\n"
          ]
        }
      ],
      "source": [
        "# This program sum the input of variables\n",
        "def add_numbers():\n",
        "  print(\"This program adds two numbers\")\n",
        "  num1 = input(\"Enter number1:\")\n",
        "  num1 = int(num1)\n",
        "  num2 = input(\"Enter number2:\")\n",
        "  num2 = int(num2)\n",
        "  total = num1 + num2\n",
        "  print(\"The total is\",total)\n",
        "if __name__ == \"__main__\":\n",
        "  add_numbers()"
      ]
    }
  ]
}