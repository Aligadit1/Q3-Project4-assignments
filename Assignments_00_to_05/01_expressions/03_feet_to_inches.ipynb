{
  "nbformat": 4,
  "nbformat_minor": 0,
  "metadata": {
    "colab": {
      "provenance": [],
      "authorship_tag": "ABX9TyOq7SiQ8rP2sKrzDvNmKrl5",
      "include_colab_link": true
    },
    "kernelspec": {
      "name": "python3",
      "display_name": "Python 3"
    },
    "language_info": {
      "name": "python"
    }
  },
  "cells": [
    {
      "cell_type": "markdown",
      "metadata": {
        "id": "view-in-github",
        "colab_type": "text"
      },
      "source": [
        "<a href=\"https://colab.research.google.com/github/Aligadit1/Q3-Project4-assignments/blob/main/Assignments_00_to_05/01_expressions/03_feet_to_inches.ipynb\" target=\"_parent\"><img src=\"https://colab.research.google.com/assets/colab-badge.svg\" alt=\"Open In Colab\"/></a>"
      ]
    },
    {
      "cell_type": "code",
      "execution_count": 7,
      "metadata": {
        "colab": {
          "base_uri": "https://localhost:8080/"
        },
        "id": "ajPWwgubF608",
        "outputId": "265e4e09-7e12-4dc3-9cef-ccb664c54b0f"
      },
      "outputs": [
        {
          "output_type": "stream",
          "name": "stdout",
          "text": [
            "Convert feet into inches\n",
            "Enter feet: 9\n",
            "9.0 feet is equal to 108.0 inches\n"
          ]
        }
      ],
      "source": [
        "# This program converts feets into inches\n",
        "inches_in_feet = 12\n",
        "def main():\n",
        "  print(\"Convert feet into inches\")\n",
        "  feet = float(input(\"Enter feet: \"))\n",
        "  inches = feet*inches_in_feet\n",
        "  print(f\"{feet} feet is equal to {inches} inches\")\n",
        "if __name__ == \"__main__\":\n",
        "  main()"
      ]
    }
  ]
}