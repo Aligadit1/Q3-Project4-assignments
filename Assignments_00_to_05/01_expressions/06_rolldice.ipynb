{
  "nbformat": 4,
  "nbformat_minor": 0,
  "metadata": {
    "colab": {
      "provenance": [],
      "authorship_tag": "ABX9TyPemtnLt13RRwiGeRM4LmGt",
      "include_colab_link": true
    },
    "kernelspec": {
      "name": "python3",
      "display_name": "Python 3"
    },
    "language_info": {
      "name": "python"
    }
  },
  "cells": [
    {
      "cell_type": "markdown",
      "metadata": {
        "id": "view-in-github",
        "colab_type": "text"
      },
      "source": [
        "<a href=\"https://colab.research.google.com/github/Aligadit1/Q3-Project4-assignments/blob/main/Assignments_00_to_05/01_expressions/06_rolldice.ipynb\" target=\"_parent\"><img src=\"https://colab.research.google.com/assets/colab-badge.svg\" alt=\"Open In Colab\"/></a>"
      ]
    },
    {
      "cell_type": "code",
      "execution_count": 1,
      "metadata": {
        "colab": {
          "base_uri": "https://localhost:8080/"
        },
        "id": "xiLbn2ppPeGF",
        "outputId": "a7047341-4a8f-4b22-a41c-9b195d907309"
      },
      "outputs": [
        {
          "output_type": "stream",
          "name": "stdout",
          "text": [
            "Dice 1: 4\n",
            "Dice 2: 5\n",
            "Total: 9\n"
          ]
        }
      ],
      "source": [
        "# Roll dice\n",
        "import random\n",
        "total_sides = 6\n",
        "def dice_roll():\n",
        "  dice1 = random.randint(1,total_sides)\n",
        "  dice2 = random.randint(1,total_sides)\n",
        "  total = dice1+dice2\n",
        "  print(f\"Dice 1: {dice1}\")\n",
        "  print(f\"Dice 2: {dice2}\")\n",
        "  print(f\"Total: {total}\")\n",
        "if __name__ == \"__main__\":\n",
        "  dice_roll()"
      ]
    }
  ]
}