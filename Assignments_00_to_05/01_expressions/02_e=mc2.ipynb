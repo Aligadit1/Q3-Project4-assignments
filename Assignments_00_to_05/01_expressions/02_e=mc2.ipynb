{
  "nbformat": 4,
  "nbformat_minor": 0,
  "metadata": {
    "colab": {
      "provenance": [],
      "authorship_tag": "ABX9TyM8SoDcScXrbiVVY43I6bdO",
      "include_colab_link": true
    },
    "kernelspec": {
      "name": "python3",
      "display_name": "Python 3"
    },
    "language_info": {
      "name": "python"
    }
  },
  "cells": [
    {
      "cell_type": "markdown",
      "metadata": {
        "id": "view-in-github",
        "colab_type": "text"
      },
      "source": [
        "<a href=\"https://colab.research.google.com/github/Aligadit1/Q3-Project4-assignments/blob/main/Assignments_00_to_05/01_expressions/02_e%3Dmc2.ipynb\" target=\"_parent\"><img src=\"https://colab.research.google.com/assets/colab-badge.svg\" alt=\"Open In Colab\"/></a>"
      ]
    },
    {
      "cell_type": "code",
      "execution_count": 4,
      "metadata": {
        "colab": {
          "base_uri": "https://localhost:8080/"
        },
        "id": "0QiaGbeV-0_J",
        "outputId": "15f1fe6c-5491-463f-d858-1c9d57f60044"
      },
      "outputs": [
        {
          "output_type": "stream",
          "name": "stdout",
          "text": [
            "Enter kilos of mass: 200\n",
            "Mass in kg is 200.0 kg\n",
            "Spee of light is 299792458 m/s\n",
            "Formula is E = mc^2\n",
            "1.7975103574736351e+19 joules of energy\n"
          ]
        }
      ],
      "source": [
        "# This programs calculates the amout of energy by using einstein's formula\n",
        "\n",
        "def main():\n",
        "  mass = float(input(\"Enter kilos of mass: \"))\n",
        "  # C is for speed of light\n",
        "  C = 299792458\n",
        "  # E is for energy\n",
        "  E = mass * (C**2)\n",
        "  print(f\"Mass in kg is {mass} kg\")\n",
        "  print(\"Spee of light is 299792458 m/s\")\n",
        "  print(\"Formula is E = mc^2\")\n",
        "  print(f\"{E} joules of energy\")\n",
        "if __name__ == \"__main__\":\n",
        "  main()"
      ]
    }
  ]
}