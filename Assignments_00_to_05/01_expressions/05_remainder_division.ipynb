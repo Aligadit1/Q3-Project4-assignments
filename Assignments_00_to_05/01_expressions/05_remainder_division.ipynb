{
  "nbformat": 4,
  "nbformat_minor": 0,
  "metadata": {
    "colab": {
      "provenance": [],
      "authorship_tag": "ABX9TyMEhF0qoUiaFGDAwRR9NGYo",
      "include_colab_link": true
    },
    "kernelspec": {
      "name": "python3",
      "display_name": "Python 3"
    },
    "language_info": {
      "name": "python"
    }
  },
  "cells": [
    {
      "cell_type": "markdown",
      "metadata": {
        "id": "view-in-github",
        "colab_type": "text"
      },
      "source": [
        "<a href=\"https://colab.research.google.com/github/Aligadit1/Q3-Project4-assignments/blob/main/Assignments_00_to_05/01_expressions/05_remainder_division.ipynb\" target=\"_parent\"><img src=\"https://colab.research.google.com/assets/colab-badge.svg\" alt=\"Open In Colab\"/></a>"
      ]
    },
    {
      "cell_type": "code",
      "execution_count": 2,
      "metadata": {
        "colab": {
          "base_uri": "https://localhost:8080/"
        },
        "id": "oqSMRfxiKopp",
        "outputId": "3b0ff3b8-f961-48d0-b2aa-be8c93acc70b"
      },
      "outputs": [
        {
          "output_type": "stream",
          "name": "stdout",
          "text": [
            "Enter value to be divided: 25\n",
            "Enter value to divided by: 3\n",
            "The division of 25 and 3 is 8 and the remainder of 25 and 3 is 1\n"
          ]
        }
      ],
      "source": [
        "# This program takes two inputs and gives it division and remainder\n",
        "def main():\n",
        "  value1 = int(input(\"Enter value to be divided: \"))\n",
        "  value2 = int(input(\"Enter value to divided by: \"))\n",
        "  division = value1 // value2\n",
        "  remainder = value1%value2\n",
        "  print(f\"The division of {value1} and {value2} is {division} and the remainder of {value1} and {value2} is {remainder}\" )\n",
        "if __name__ == \"__main__\":\n",
        "  main()\n",
        "\n",
        ""
      ]
    }
  ]
}