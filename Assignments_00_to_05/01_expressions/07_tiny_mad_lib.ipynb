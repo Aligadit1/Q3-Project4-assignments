{
  "nbformat": 4,
  "nbformat_minor": 0,
  "metadata": {
    "colab": {
      "provenance": [],
      "authorship_tag": "ABX9TyMT6RVyAocBMH1EdkjAn0PS",
      "include_colab_link": true
    },
    "kernelspec": {
      "name": "python3",
      "display_name": "Python 3"
    },
    "language_info": {
      "name": "python"
    }
  },
  "cells": [
    {
      "cell_type": "markdown",
      "metadata": {
        "id": "view-in-github",
        "colab_type": "text"
      },
      "source": [
        "<a href=\"https://colab.research.google.com/github/Aligadit1/Q3-Project4-assignments/blob/main/Assignments_00_to_05/01_expressions/07_tiny_mad_lib.ipynb\" target=\"_parent\"><img src=\"https://colab.research.google.com/assets/colab-badge.svg\" alt=\"Open In Colab\"/></a>"
      ]
    },
    {
      "cell_type": "code",
      "execution_count": 3,
      "metadata": {
        "colab": {
          "base_uri": "https://localhost:8080/"
        },
        "id": "ccKf0f7aRw7q",
        "outputId": "dd7ad462-156c-48ad-e17a-a0ae65942e92"
      },
      "outputs": [
        {
          "output_type": "stream",
          "name": "stdout",
          "text": [
            "Enter the adjective, noun and verb to complete the sentecne\n",
            "Enter an adjective: happy\n",
            "Enter a noun: dog\n",
            "Enter a verb: play\n",
            "The happy dog decided to play\n"
          ]
        }
      ],
      "source": [
        "# This program takes some input from user and make a sentence from it\n",
        "def main():\n",
        "  print(\"Enter the adjective, noun and verb to complete the sentecne\")\n",
        "  adjective = input(\"Enter an adjective: \")\n",
        "  noun = input(\"Enter a noun: \")\n",
        "  verb = input(\"Enter a verb: \")\n",
        "  print(f\"The {adjective} {noun} decided to {verb}\")\n",
        "if __name__ == \"__main__\":\n",
        "  main()"
      ]
    }
  ]
}