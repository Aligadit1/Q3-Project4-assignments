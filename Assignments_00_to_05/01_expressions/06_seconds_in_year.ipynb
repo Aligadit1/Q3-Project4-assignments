{
  "nbformat": 4,
  "nbformat_minor": 0,
  "metadata": {
    "colab": {
      "provenance": [],
      "authorship_tag": "ABX9TyNETAd+r7PYIyjr/NMCgFj0",
      "include_colab_link": true
    },
    "kernelspec": {
      "name": "python3",
      "display_name": "Python 3"
    },
    "language_info": {
      "name": "python"
    }
  },
  "cells": [
    {
      "cell_type": "markdown",
      "metadata": {
        "id": "view-in-github",
        "colab_type": "text"
      },
      "source": [
        "<a href=\"https://colab.research.google.com/github/Aligadit1/Q3-Project4-assignments/blob/main/Assignments_00_to_05/01_expressions/06_seconds_in_year.ipynb\" target=\"_parent\"><img src=\"https://colab.research.google.com/assets/colab-badge.svg\" alt=\"Open In Colab\"/></a>"
      ]
    },
    {
      "cell_type": "code",
      "execution_count": 1,
      "metadata": {
        "colab": {
          "base_uri": "https://localhost:8080/"
        },
        "id": "4fyiVkTbQkNz",
        "outputId": "d6bd2811-0255-4dd7-9348-e4e3803ae6c7"
      },
      "outputs": [
        {
          "output_type": "stream",
          "name": "stdout",
          "text": [
            "There are 31536000 seconds in a year\n"
          ]
        }
      ],
      "source": [
        "# This program calculates how many seconds are in a year\n",
        "year = 365\n",
        "day = 24\n",
        "hour = 60\n",
        "minute = 60\n",
        "print(f\"There are {minute*hour*day*year} seconds in a year\")\n"
      ]
    }
  ]
}