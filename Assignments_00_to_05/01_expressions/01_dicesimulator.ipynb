{
  "nbformat": 4,
  "nbformat_minor": 0,
  "metadata": {
    "colab": {
      "provenance": [],
      "authorship_tag": "ABX9TyNxiI5emEbpqIknSACNHob7",
      "include_colab_link": true
    },
    "kernelspec": {
      "name": "python3",
      "display_name": "Python 3"
    },
    "language_info": {
      "name": "python"
    }
  },
  "cells": [
    {
      "cell_type": "markdown",
      "metadata": {
        "id": "view-in-github",
        "colab_type": "text"
      },
      "source": [
        "<a href=\"https://colab.research.google.com/github/Aligadit1/Q3-Project4-assignments/blob/main/Assignments_00_to_05/01_expressions/01_dicesimulator.ipynb\" target=\"_parent\"><img src=\"https://colab.research.google.com/assets/colab-badge.svg\" alt=\"Open In Colab\"/></a>"
      ]
    },
    {
      "cell_type": "code",
      "execution_count": 2,
      "metadata": {
        "colab": {
          "base_uri": "https://localhost:8080/"
        },
        "id": "edQKRPtL7s_7",
        "outputId": "c26b5706-a596-4d1e-8ed8-c35cd7723708"
      },
      "outputs": [
        {
          "output_type": "stream",
          "name": "stdout",
          "text": [
            "Dice in main function is 10 and it will not change its value due to its local scope\n",
            "Total of dice 1 and 2 is 6\n",
            "Total of dice 1 and 2 is 3\n",
            "Total of dice 1 and 2 is 8\n",
            "Dice 1 is still 10 due to its scope 10\n"
          ]
        }
      ],
      "source": [
        "# This programs generates random output by using random library like the dice rolls in ludo\n",
        "import random\n",
        "def dice_roll():\n",
        "  dice1 = random.randint(1,6)\n",
        "  dice2 = random.randint(1,6)\n",
        "  total = dice1 + dice2\n",
        "  print(f\"Total of dice 1 and 2 is {total}\")\n",
        "def main():\n",
        "  dice1 = 10\n",
        "  print(\"Dice in main function is 10 and it will not change its value due to its local scope\")\n",
        "  dice_roll()\n",
        "  dice_roll()\n",
        "  dice_roll()\n",
        "  print(f\"Dice 1 is still 10 due to its scope {dice1}\")\n",
        "if __name__ == \"__main__\":\n",
        "  main()"
      ]
    }
  ]
}