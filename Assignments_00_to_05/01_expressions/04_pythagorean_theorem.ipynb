{
  "nbformat": 4,
  "nbformat_minor": 0,
  "metadata": {
    "colab": {
      "provenance": [],
      "authorship_tag": "ABX9TyMJRaihXxbE70dCvtcCaTUT",
      "include_colab_link": true
    },
    "kernelspec": {
      "name": "python3",
      "display_name": "Python 3"
    },
    "language_info": {
      "name": "python"
    }
  },
  "cells": [
    {
      "cell_type": "markdown",
      "metadata": {
        "id": "view-in-github",
        "colab_type": "text"
      },
      "source": [
        "<a href=\"https://colab.research.google.com/github/Aligadit1/Q3-Project4-assignments/blob/main/Assignments_00_to_05/01_expressions/04_pythagorean_theorem.ipynb\" target=\"_parent\"><img src=\"https://colab.research.google.com/assets/colab-badge.svg\" alt=\"Open In Colab\"/></a>"
      ]
    },
    {
      "cell_type": "code",
      "execution_count": 2,
      "metadata": {
        "colab": {
          "base_uri": "https://localhost:8080/"
        },
        "id": "FOk3aUycItM1",
        "outputId": "7978844c-b2b6-4483-ea1f-40f8f519abc4"
      },
      "outputs": [
        {
          "output_type": "stream",
          "name": "stdout",
          "text": [
            "Enter the length of AB sides: 3\n",
            "Enter the length of AC side: 4\n",
            "BC is equal to 5.0\n"
          ]
        }
      ],
      "source": [
        "# This program uses pythagorean theorem to find the bc side of right angled triangle\n",
        "import math\n",
        "def main():\n",
        "  ab = float(input(\"Enter the length of AB sides: \"))\n",
        "  ac = float(input(\"Enter the length of AC side: \"))\n",
        "  bc = math.sqrt(ab**2 + ac**2)\n",
        "  print (f\"BC is equal to {bc}\")\n",
        "\n",
        "if __name__ == \"__main__\":\n",
        "  main()"
      ]
    }
  ]
}