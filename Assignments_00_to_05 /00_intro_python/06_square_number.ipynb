{
  "nbformat": 4,
  "nbformat_minor": 0,
  "metadata": {
    "colab": {
      "provenance": [],
      "authorship_tag": "ABX9TyPu2GF+jllg2M2xP7guO+JW",
      "include_colab_link": true
    },
    "kernelspec": {
      "name": "python3",
      "display_name": "Python 3"
    },
    "language_info": {
      "name": "python"
    }
  },
  "cells": [
    {
      "cell_type": "markdown",
      "metadata": {
        "id": "view-in-github",
        "colab_type": "text"
      },
      "source": [
        "<a href=\"https://colab.research.google.com/github/Aligadit1/Q3-Project4-assignments/blob/main/Assignments_00_to_05%20/00_intro_python/06_square_number.ipynb\" target=\"_parent\"><img src=\"https://colab.research.google.com/assets/colab-badge.svg\" alt=\"Open In Colab\"/></a>"
      ]
    },
    {
      "cell_type": "code",
      "execution_count": 2,
      "metadata": {
        "colab": {
          "base_uri": "https://localhost:8080/",
          "height": 64
        },
        "id": "bCHJE3_H5l8s",
        "outputId": "dbc061e0-226d-4b29-f7b9-11f16182e919"
      },
      "outputs": [
        {
          "name": "stdout",
          "output_type": "stream",
          "text": [
            "Enter any value to find its square: 4.1\n"
          ]
        },
        {
          "output_type": "display_data",
          "data": {
            "text/plain": [
              "<IPython.core.display.Markdown object>"
            ],
            "text/markdown": "The square of ***4.1*** is 16.81"
          },
          "metadata": {}
        }
      ],
      "source": [
        "# This program finds the square of any value\n",
        "from IPython.display import display, Markdown\n",
        "def square():\n",
        "  value = float(input(\"Enter any value to find its square: \"))\n",
        "  display(Markdown(f\"The square of ***{value}*** is {value**2}\"))\n",
        "if __name__ == \"__main__\":\n",
        "  square()"
      ]
    }
  ]
}