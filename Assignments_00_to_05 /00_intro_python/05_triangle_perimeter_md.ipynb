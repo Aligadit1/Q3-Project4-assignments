{
  "nbformat": 4,
  "nbformat_minor": 0,
  "metadata": {
    "colab": {
      "provenance": [],
      "authorship_tag": "ABX9TyM15YjpoiBHR6wlOBIsHlhg",
      "include_colab_link": true
    },
    "kernelspec": {
      "name": "python3",
      "display_name": "Python 3"
    },
    "language_info": {
      "name": "python"
    }
  },
  "cells": [
    {
      "cell_type": "markdown",
      "metadata": {
        "id": "view-in-github",
        "colab_type": "text"
      },
      "source": [
        "<a href=\"https://colab.research.google.com/github/Aligadit1/Q3-Project4-assignments/blob/main/Assignments_00_to_05%20/00_intro_python/05_triangle_perimeter_md.ipynb\" target=\"_parent\"><img src=\"https://colab.research.google.com/assets/colab-badge.svg\" alt=\"Open In Colab\"/></a>"
      ]
    },
    {
      "cell_type": "code",
      "execution_count": 2,
      "metadata": {
        "colab": {
          "base_uri": "https://localhost:8080/",
          "height": 116
        },
        "id": "PjIvgn753rMe",
        "outputId": "0aa4adbe-bee8-46b9-948e-2c4dc0ea0f11"
      },
      "outputs": [
        {
          "name": "stdout",
          "output_type": "stream",
          "text": [
            "Enter the values of each side of triangle to find its perimeter\n",
            "Enter the length of side 1: 10\n",
            "Enter the length of side 2: 12.1\n",
            "Enter the length of side 3: 20\n"
          ]
        },
        {
          "output_type": "display_data",
          "data": {
            "text/plain": [
              "<IPython.core.display.Markdown object>"
            ],
            "text/markdown": "The perimeter of triangle is 42.1"
          },
          "metadata": {}
        }
      ],
      "source": [
        "#  this program finds the perimeter of triangle\n",
        "from IPython.display import display, Markdown\n",
        "def perimeter():\n",
        "  print(\"Enter the values of each side of triangle to find its perimeter\")\n",
        "  side1 = float(input(\"Enter the length of side 1: \"))\n",
        "  side2 = float(input(\"Enter the length of side 2: \"))\n",
        "  side3 = float(input(\"Enter the length of side 3: \"))\n",
        "  display(Markdown(f\"The perimeter of triangle is {side1+side2+side3}\"))\n",
        "if __name__ == \"__main__\":\n",
        "  perimeter()"
      ]
    }
  ]
}